{
 "cells": [
  {
   "cell_type": "code",
   "execution_count": 1,
   "metadata": {
    "ExecuteTime": {
     "end_time": "2021-06-10T08:01:12.685034Z",
     "start_time": "2021-06-10T08:01:00.257293Z"
    }
   },
   "outputs": [
    {
     "name": "stdout",
     "output_type": "stream",
     "text": [
      "\u001b[31mERROR: pip's dependency resolver does not currently take into account all the packages that are installed. This behaviour is the source of the following dependency conflicts.\r\n",
      "spyder 4.1.5 requires pyqt5<5.13; python_version >= \"3\", which is not installed.\r\n",
      "spyder 4.1.5 requires pyqtwebengine<5.13; python_version >= \"3\", which is not installed.\u001b[0m\r\n"
     ]
    }
   ],
   "source": [
    "#hide\n",
    "!pip install -Uqq fastbook\n",
    "import fastbook\n",
    "fastbook.setup_book()"
   ]
  },
  {
   "cell_type": "code",
   "execution_count": 2,
   "metadata": {
    "ExecuteTime": {
     "end_time": "2021-06-10T08:01:12.694164Z",
     "start_time": "2021-06-10T08:01:12.692648Z"
    }
   },
   "outputs": [],
   "source": [
    "from fastbook import *"
   ]
  },
  {
   "cell_type": "code",
   "execution_count": 3,
   "metadata": {
    "ExecuteTime": {
     "end_time": "2021-06-10T08:01:13.400789Z",
     "start_time": "2021-06-10T08:01:12.718263Z"
    }
   },
   "outputs": [],
   "source": [
    "from fastai.text.all import *"
   ]
  },
  {
   "cell_type": "code",
   "execution_count": 4,
   "metadata": {
    "ExecuteTime": {
     "end_time": "2021-06-10T08:01:23.135376Z",
     "start_time": "2021-06-10T08:01:13.429616Z"
    }
   },
   "outputs": [],
   "source": [
    "## Install dependencies\n",
    "\n",
    "!pip install torch -qq\n",
    "!pip install transformers -qq\n",
    "!pip install wandb -qq\n",
    "!pip install tweepy -qq"
   ]
  },
  {
   "cell_type": "code",
   "execution_count": 5,
   "metadata": {
    "ExecuteTime": {
     "end_time": "2021-06-10T08:01:23.177064Z",
     "start_time": "2021-06-10T08:01:23.175168Z"
    }
   },
   "outputs": [],
   "source": [
    "## Set up a Twitter Development Account\n",
    "# Identifiants twitter\n",
    "consumer_key = 'xxx'\n",
    "consumer_secret = 'xxx'"
   ]
  },
  {
   "cell_type": "code",
   "execution_count": 6,
   "metadata": {
    "ExecuteTime": {
     "end_time": "2021-06-10T08:01:23.441105Z",
     "start_time": "2021-06-10T08:01:23.204687Z"
    }
   },
   "outputs": [],
   "source": [
    "import tweepy\n",
    "\n",
    "# authenticate\n",
    "auth = tweepy.AppAuthHandler(consumer_key, consumer_secret)\n",
    "api = tweepy.API(auth)"
   ]
  },
  {
   "cell_type": "code",
   "execution_count": 7,
   "metadata": {
    "ExecuteTime": {
     "end_time": "2021-06-10T08:01:23.486448Z",
     "start_time": "2021-06-10T08:01:23.483916Z"
    }
   },
   "outputs": [],
   "source": [
    "# On entre le @ du premier utilisateur\n",
    "handle1 = 'WinamaxSport'"
   ]
  },
  {
   "cell_type": "code",
   "execution_count": 8,
   "metadata": {
    "ExecuteTime": {
     "end_time": "2021-06-10T08:01:46.556059Z",
     "start_time": "2021-06-10T08:01:23.520797Z"
    }
   },
   "outputs": [
    {
     "name": "stdout",
     "output_type": "stream",
     "text": [
      "... 400 tweets downloaded so far\n",
      "... 600 tweets downloaded so far\n",
      "... 800 tweets downloaded so far\n",
      "... 1000 tweets downloaded so far\n",
      "... 1200 tweets downloaded so far\n",
      "... 1400 tweets downloaded so far\n",
      "... 1600 tweets downloaded so far\n",
      "... 1800 tweets downloaded so far\n",
      "... 2000 tweets downloaded so far\n",
      "... 2200 tweets downloaded so far\n",
      "... 2400 tweets downloaded so far\n",
      "... 2600 tweets downloaded so far\n",
      "... 2800 tweets downloaded so far\n",
      "... 3000 tweets downloaded so far\n",
      "... 3200 tweets downloaded so far\n",
      "... 3250 tweets downloaded so far\n",
      "Grabbed 3250 tweets\n"
     ]
    }
   ],
   "source": [
    "# on initialise la liste qui regroupera tous nos éléments\n",
    "alltweets = []\n",
    "\n",
    "# requete pour récupérer les tweets les plus récents \n",
    "new_tweets = api.user_timeline(\n",
    "    screen_name=handle1, tweet_mode='extended', count=200)\n",
    "\n",
    "if new_tweets:\n",
    "    # sauvegarder le tweet le plus récent\n",
    "    alltweets.extend(new_tweets)\n",
    "\n",
    "    # on enregistre l'id du plus vieux tweet -1\n",
    "    oldest = alltweets[-1].id - 1\n",
    "\n",
    "    # on récupère des tweets jusqu'à atteindre la limite de l'API\n",
    "    while True:\n",
    "        # on évite les doublons\n",
    "        new_tweets = api.user_timeline(\n",
    "            screen_name=handle1, tweet_mode='extended', count=200, max_id=oldest)\n",
    "        \n",
    "        # on arrete si aucun nouveau tweet\n",
    "        if not new_tweets:\n",
    "            break\n",
    "\n",
    "        # sauvegarde des nouveaux tweets\n",
    "        alltweets.extend(new_tweets)\n",
    "\n",
    "        # mise à jour de l'id du plus vieux tweet -1\n",
    "        oldest = alltweets[-1].id - 1\n",
    "        print(f'... {len(alltweets)} tweets downloaded so far')\n",
    "\n",
    "n_tweets = len(alltweets)\n",
    "print(f'Grabbed {n_tweets} tweets')"
   ]
  },
  {
   "cell_type": "code",
   "execution_count": 9,
   "metadata": {
    "ExecuteTime": {
     "end_time": "2021-06-10T08:01:47.325237Z",
     "start_time": "2021-06-10T08:01:47.320953Z"
    }
   },
   "outputs": [
    {
     "name": "stdout",
     "output_type": "stream",
     "text": [
      "Found 3250 tweets, including 11 RT, keeping 3239\n"
     ]
    }
   ],
   "source": [
    "# on ne garde que le tewte et on exclut les RT\n",
    "my_tweets = [tweet.full_text for tweet in alltweets if not hasattr(tweet, 'retweeted_status')]\n",
    "print(f'Found {n_tweets} tweets, including {n_tweets - len(my_tweets)} RT, keeping {len(my_tweets)}')"
   ]
  },
  {
   "cell_type": "markdown",
   "metadata": {},
   "source": [
    "## Create a dataset from downloaded tweets\n",
    "\n",
    "Il faut encore retirer les tweets inutiles (avec uniquement des url par exemple)"
   ]
  },
  {
   "cell_type": "code",
   "execution_count": 10,
   "metadata": {
    "ExecuteTime": {
     "end_time": "2021-06-10T08:01:48.038320Z",
     "start_time": "2021-06-10T08:01:48.036820Z"
    }
   },
   "outputs": [],
   "source": [
    "import random\n",
    "import re\n",
    "import torch"
   ]
  },
  {
   "cell_type": "code",
   "execution_count": 11,
   "metadata": {
    "ExecuteTime": {
     "end_time": "2021-06-10T08:01:48.765619Z",
     "start_time": "2021-06-10T08:01:48.763885Z"
    }
   },
   "outputs": [
    {
     "name": "stdout",
     "output_type": "stream",
     "text": [
      "Total number of tweets: 3250\n",
      "My tweets: 3239\n"
     ]
    }
   ],
   "source": [
    "#on verifie que la liste ait bien été nettoyée\n",
    "\n",
    "print(f'Total number of tweets: {len(alltweets)}\\nMy tweets: {len(my_tweets)}')"
   ]
  },
  {
   "cell_type": "code",
   "execution_count": 12,
   "metadata": {
    "ExecuteTime": {
     "end_time": "2021-06-10T08:01:49.484344Z",
     "start_time": "2021-06-10T08:01:49.481943Z"
    }
   },
   "outputs": [
    {
     "name": "stdout",
     "output_type": "stream",
     "text": [
      "Original tweets\n",
      "\n",
      "Juju 🇫🇷, étape 5, #CoteBoostée à 5, tape m'en 5 ! 🚴‍♂️\n",
      "\n",
      "Tennis ATP Grand Chelem Paris 2021 : Sakkari et Tsitsipas, le doublé grec est-il possible ? #Sakkari https://t.co/P6I9uQM9At\n",
      "\n",
      "M V P ! 🏀🇺🇸 #CoteBoostée\n",
      "\n",
      "@bandigus Oui.\n",
      "\n",
      "@bandigus Oui.\n",
      "\n"
     ]
    }
   ],
   "source": [
    "print('Original tweets\\n')\n",
    "for t in alltweets[:5]:\n",
    "    print(f'{t.full_text}\\n')"
   ]
  },
  {
   "cell_type": "code",
   "execution_count": 13,
   "metadata": {
    "ExecuteTime": {
     "end_time": "2021-06-10T08:01:50.239170Z",
     "start_time": "2021-06-10T08:01:50.236182Z"
    }
   },
   "outputs": [
    {
     "name": "stdout",
     "output_type": "stream",
     "text": [
      "My tweets\n",
      "\n",
      "Juju 🇫🇷, étape 5, #CoteBoostée à 5, tape m'en 5 ! 🚴‍♂️\n",
      "\n",
      "Tennis ATP Grand Chelem Paris 2021 : Sakkari et Tsitsipas, le doublé grec est-il possible ? #Sakkari https://t.co/P6I9uQM9At\n",
      "\n",
      "M V P ! 🏀🇺🇸 #CoteBoostée\n",
      "\n",
      "@bandigus Oui.\n",
      "\n",
      "@bandigus Oui.\n",
      "\n"
     ]
    }
   ],
   "source": [
    "print('My tweets\\n')\n",
    "for t in my_tweets[:5]:\n",
    "    print(f'{t}\\n')"
   ]
  },
  {
   "cell_type": "code",
   "execution_count": 14,
   "metadata": {
    "ExecuteTime": {
     "end_time": "2021-06-10T08:01:51.028717Z",
     "start_time": "2021-06-10T08:01:51.026220Z"
    }
   },
   "outputs": [],
   "source": [
    "# on retire les rweets trop courts et on nettoie le texte\n",
    "\n",
    "def fix_text(text):\n",
    "    text = text.replace('&amp;', '&')\n",
    "    text = text.replace('&lt;', '<')\n",
    "    text = text.replace('&gt;', '>')\n",
    "    return text"
   ]
  },
  {
   "cell_type": "code",
   "execution_count": 15,
   "metadata": {
    "ExecuteTime": {
     "end_time": "2021-06-10T08:01:51.782798Z",
     "start_time": "2021-06-10T08:01:51.779614Z"
    }
   },
   "outputs": [],
   "source": [
    "def clean_tweet(tweet, allow_new_lines = False):\n",
    "    bad_start = ['http:', 'https:']\n",
    "    for w in bad_start:\n",
    "        tweet = re.sub(f\" {w}\\\\S+\", \"\", tweet)      # espaces devant les url\n",
    "        tweet = re.sub(f\"{w}\\\\S+ \", \"\", tweet)      # tweets commencant par un url\n",
    "        tweet = re.sub(f\"\\n{w}\\\\S+ \", \"\", tweet)    # si l'url est à la ligne\n",
    "        tweet = re.sub(f\"\\n{w}\\\\S+\", \"\", tweet)     \n",
    "        tweet = re.sub(f\"{w}\\\\S+\", \"\", tweet)       # \n",
    "    tweet = re.sub(' +', ' ', tweet)                # retirer les espaces multiples\n",
    "    if not allow_new_lines:                         \n",
    "        tweet = ' '.join(tweet.split())\n",
    "    return tweet.strip()"
   ]
  },
  {
   "cell_type": "code",
   "execution_count": 16,
   "metadata": {
    "ExecuteTime": {
     "end_time": "2021-06-10T08:01:52.568376Z",
     "start_time": "2021-06-10T08:01:52.565800Z"
    }
   },
   "outputs": [],
   "source": [
    "def boring_tweet(tweet):\n",
    "    \"Check if this is a boring tweet\"\n",
    "    boring_stuff = ['http', '@', '#']\n",
    "    not_boring_words = len([None for w in tweet.split() if all(bs not in w.lower() for bs in boring_stuff)])\n",
    "    return not_boring_words < 3"
   ]
  },
  {
   "cell_type": "code",
   "execution_count": 17,
   "metadata": {
    "ExecuteTime": {
     "end_time": "2021-06-10T08:01:53.380734Z",
     "start_time": "2021-06-10T08:01:53.312988Z"
    }
   },
   "outputs": [],
   "source": [
    "curated_tweets = [fix_text(tweet) for tweet in my_tweets]\n",
    "clean_tweets = [clean_tweet(tweet) for tweet in curated_tweets]\n",
    "cool_tweets = [tweet for tweet in clean_tweets if not boring_tweet(tweet)]"
   ]
  },
  {
   "cell_type": "code",
   "execution_count": 18,
   "metadata": {
    "ExecuteTime": {
     "end_time": "2021-06-10T08:01:54.129095Z",
     "start_time": "2021-06-10T08:01:54.126937Z"
    }
   },
   "outputs": [
    {
     "name": "stdout",
     "output_type": "stream",
     "text": [
      "Curated tweets: 3239\n",
      "Cool tweets: 2987\n"
     ]
    }
   ],
   "source": [
    "print(f'Curated tweets: {len(curated_tweets)}\\nCool tweets: {len(cool_tweets)}')"
   ]
  },
  {
   "cell_type": "code",
   "execution_count": 19,
   "metadata": {
    "ExecuteTime": {
     "end_time": "2021-06-10T08:01:54.895181Z",
     "start_time": "2021-06-10T08:01:54.887834Z"
    }
   },
   "outputs": [],
   "source": [
    "tweets_w = pd.DataFrame(data=cool_tweets)"
   ]
  },
  {
   "cell_type": "code",
   "execution_count": 20,
   "metadata": {
    "ExecuteTime": {
     "end_time": "2021-06-10T08:01:55.688413Z",
     "start_time": "2021-06-10T08:01:55.686457Z"
    }
   },
   "outputs": [],
   "source": [
    "tweets_w.columns = ['text']"
   ]
  },
  {
   "cell_type": "code",
   "execution_count": 21,
   "metadata": {
    "ExecuteTime": {
     "end_time": "2021-06-10T08:01:56.430421Z",
     "start_time": "2021-06-10T08:01:56.426957Z"
    }
   },
   "outputs": [],
   "source": [
    "tweets_w['auteur'] = 'Winamax'"
   ]
  },
  {
   "cell_type": "code",
   "execution_count": 22,
   "metadata": {
    "ExecuteTime": {
     "end_time": "2021-06-10T08:01:57.168185Z",
     "start_time": "2021-06-10T08:01:57.157967Z"
    }
   },
   "outputs": [
    {
     "data": {
      "text/html": [
       "<div>\n",
       "<style scoped>\n",
       "    .dataframe tbody tr th:only-of-type {\n",
       "        vertical-align: middle;\n",
       "    }\n",
       "\n",
       "    .dataframe tbody tr th {\n",
       "        vertical-align: top;\n",
       "    }\n",
       "\n",
       "    .dataframe thead th {\n",
       "        text-align: right;\n",
       "    }\n",
       "</style>\n",
       "<table border=\"1\" class=\"dataframe\">\n",
       "  <thead>\n",
       "    <tr style=\"text-align: right;\">\n",
       "      <th></th>\n",
       "      <th>text</th>\n",
       "      <th>auteur</th>\n",
       "    </tr>\n",
       "  </thead>\n",
       "  <tbody>\n",
       "    <tr>\n",
       "      <th>0</th>\n",
       "      <td>Juju 🇫🇷, étape 5, #CoteBoostée à 5, tape m'en 5 ! 🚴‍♂️</td>\n",
       "      <td>Winamax</td>\n",
       "    </tr>\n",
       "    <tr>\n",
       "      <th>1</th>\n",
       "      <td>Tennis ATP Grand Chelem Paris 2021 : Sakkari et Tsitsipas, le doublé grec est-il possible ? #Sakkari</td>\n",
       "      <td>Winamax</td>\n",
       "    </tr>\n",
       "    <tr>\n",
       "      <th>2</th>\n",
       "      <td>M V P ! 🏀🇺🇸 #CoteBoostée</td>\n",
       "      <td>Winamax</td>\n",
       "    </tr>\n",
       "    <tr>\n",
       "      <th>3</th>\n",
       "      <td>@marjorie1726 En ligne :)</td>\n",
       "      <td>Winamax</td>\n",
       "    </tr>\n",
       "    <tr>\n",
       "      <th>4</th>\n",
       "      <td>De : FC Barcelone À : Agent de Wijnaldum</td>\n",
       "      <td>Winamax</td>\n",
       "    </tr>\n",
       "    <tr>\n",
       "      <th>...</th>\n",
       "      <td>...</td>\n",
       "      <td>...</td>\n",
       "    </tr>\n",
       "    <tr>\n",
       "      <th>2982</th>\n",
       "      <td>@latino_65 Salut. Il n’est pas dispo pour le moment, souci technique.</td>\n",
       "      <td>Winamax</td>\n",
       "    </tr>\n",
       "    <tr>\n",
       "      <th>2983</th>\n",
       "      <td>@CocoPronos45 On est au courant oui. On rencontre des soucis.</td>\n",
       "      <td>Winamax</td>\n",
       "    </tr>\n",
       "    <tr>\n",
       "      <th>2984</th>\n",
       "      <td>@SebastienCombe Salut. D’ici 20 minutes oui.</td>\n",
       "      <td>Winamax</td>\n",
       "    </tr>\n",
       "    <tr>\n",
       "      <th>2985</th>\n",
       "      <td>@binkstobanks1 Salut. On a des soucis oui.</td>\n",
       "      <td>Winamax</td>\n",
       "    </tr>\n",
       "    <tr>\n",
       "      <th>2986</th>\n",
       "      <td>@Neyssiii Salut. Pas dans l’immédiat mais on y travaille.</td>\n",
       "      <td>Winamax</td>\n",
       "    </tr>\n",
       "  </tbody>\n",
       "</table>\n",
       "<p>2987 rows × 2 columns</p>\n",
       "</div>"
      ],
      "text/plain": [
       "                                                                                                      text  \\\n",
       "0                                                   Juju 🇫🇷, étape 5, #CoteBoostée à 5, tape m'en 5 ! 🚴‍♂️   \n",
       "1     Tennis ATP Grand Chelem Paris 2021 : Sakkari et Tsitsipas, le doublé grec est-il possible ? #Sakkari   \n",
       "2                                                                                 M V P ! 🏀🇺🇸 #CoteBoostée   \n",
       "3                                                                                @marjorie1726 En ligne :)   \n",
       "4                                                                 De : FC Barcelone À : Agent de Wijnaldum   \n",
       "...                                                                                                    ...   \n",
       "2982                                 @latino_65 Salut. Il n’est pas dispo pour le moment, souci technique.   \n",
       "2983                                         @CocoPronos45 On est au courant oui. On rencontre des soucis.   \n",
       "2984                                                          @SebastienCombe Salut. D’ici 20 minutes oui.   \n",
       "2985                                                            @binkstobanks1 Salut. On a des soucis oui.   \n",
       "2986                                             @Neyssiii Salut. Pas dans l’immédiat mais on y travaille.   \n",
       "\n",
       "       auteur  \n",
       "0     Winamax  \n",
       "1     Winamax  \n",
       "2     Winamax  \n",
       "3     Winamax  \n",
       "4     Winamax  \n",
       "...       ...  \n",
       "2982  Winamax  \n",
       "2983  Winamax  \n",
       "2984  Winamax  \n",
       "2985  Winamax  \n",
       "2986  Winamax  \n",
       "\n",
       "[2987 rows x 2 columns]"
      ]
     },
     "execution_count": 22,
     "metadata": {},
     "output_type": "execute_result"
    }
   ],
   "source": [
    "tweets_w"
   ]
  },
  {
   "cell_type": "markdown",
   "metadata": {},
   "source": [
    "## Répétition de l'opération sur un 2e compte"
   ]
  },
  {
   "cell_type": "code",
   "execution_count": 23,
   "metadata": {
    "ExecuteTime": {
     "end_time": "2021-06-10T08:01:57.943528Z",
     "start_time": "2021-06-10T08:01:57.941905Z"
    }
   },
   "outputs": [],
   "source": [
    "handle2 = 'MLP_officiel'"
   ]
  },
  {
   "cell_type": "code",
   "execution_count": 24,
   "metadata": {
    "ExecuteTime": {
     "end_time": "2021-06-10T08:02:30.091222Z",
     "start_time": "2021-06-10T08:01:58.693921Z"
    }
   },
   "outputs": [
    {
     "name": "stdout",
     "output_type": "stream",
     "text": [
      "... 400 tweets downloaded so far\n",
      "... 600 tweets downloaded so far\n",
      "... 800 tweets downloaded so far\n",
      "... 1000 tweets downloaded so far\n",
      "... 1200 tweets downloaded so far\n",
      "... 1400 tweets downloaded so far\n",
      "... 1600 tweets downloaded so far\n",
      "... 1800 tweets downloaded so far\n",
      "... 2000 tweets downloaded so far\n",
      "... 2200 tweets downloaded so far\n",
      "... 2400 tweets downloaded so far\n",
      "... 2600 tweets downloaded so far\n",
      "... 2800 tweets downloaded so far\n",
      "... 3000 tweets downloaded so far\n",
      "... 3200 tweets downloaded so far\n",
      "... 3250 tweets downloaded so far\n",
      "Grabbed 3250 tweets\n"
     ]
    }
   ],
   "source": [
    "alltweets = []\n",
    "\n",
    "new_tweets = api.user_timeline(\n",
    "    screen_name=handle2, tweet_mode='extended', count=200)\n",
    "\n",
    "if new_tweets:\n",
    "    alltweets.extend(new_tweets)\n",
    "\n",
    "    oldest = alltweets[-1].id - 1\n",
    "\n",
    "    while True:\n",
    "        new_tweets = api.user_timeline(\n",
    "            screen_name=handle2, tweet_mode='extended', count=200, max_id=oldest)\n",
    "        \n",
    "        if not new_tweets:\n",
    "            break\n",
    "\n",
    "        alltweets.extend(new_tweets)\n",
    "\n",
    "        oldest = alltweets[-1].id - 1\n",
    "        print(f'... {len(alltweets)} tweets downloaded so far')\n",
    "\n",
    "n_tweets = len(alltweets)\n",
    "print(f'Grabbed {n_tweets} tweets')"
   ]
  },
  {
   "cell_type": "code",
   "execution_count": 25,
   "metadata": {
    "ExecuteTime": {
     "end_time": "2021-06-10T08:02:31.944397Z",
     "start_time": "2021-06-10T08:02:31.938082Z"
    }
   },
   "outputs": [
    {
     "name": "stdout",
     "output_type": "stream",
     "text": [
      "Found 3250 tweets, including 657 RT, keeping 2593\n"
     ]
    }
   ],
   "source": [
    "my_tweets = [tweet.full_text for tweet in alltweets if not hasattr(tweet, 'retweeted_status')]\n",
    "print(f'Found {n_tweets} tweets, including {n_tweets - len(my_tweets)} RT, keeping {len(my_tweets)}')"
   ]
  },
  {
   "cell_type": "code",
   "execution_count": 26,
   "metadata": {
    "ExecuteTime": {
     "end_time": "2021-06-10T08:02:33.242858Z",
     "start_time": "2021-06-10T08:02:33.239185Z"
    }
   },
   "outputs": [
    {
     "name": "stdout",
     "output_type": "stream",
     "text": [
      "Total number of tweets: 3250\n",
      "My tweets: 2593\n"
     ]
    }
   ],
   "source": [
    "print(f'Total number of tweets: {len(alltweets)}\\nMy tweets: {len(my_tweets)}')"
   ]
  },
  {
   "cell_type": "code",
   "execution_count": 27,
   "metadata": {
    "ExecuteTime": {
     "end_time": "2021-06-10T08:02:35.412641Z",
     "start_time": "2021-06-10T08:02:35.257647Z"
    }
   },
   "outputs": [],
   "source": [
    "curated_tweets = [fix_text(tweet) for tweet in my_tweets]\n",
    "clean_tweets = [clean_tweet(tweet) for tweet in curated_tweets]\n",
    "cool_tweets = [tweet for tweet in clean_tweets if not boring_tweet(tweet)]"
   ]
  },
  {
   "cell_type": "code",
   "execution_count": 28,
   "metadata": {
    "ExecuteTime": {
     "end_time": "2021-06-10T08:02:36.739595Z",
     "start_time": "2021-06-10T08:02:36.737672Z"
    }
   },
   "outputs": [
    {
     "name": "stdout",
     "output_type": "stream",
     "text": [
      "Curated tweets: 2593\n",
      "Cool tweets: 2585\n"
     ]
    }
   ],
   "source": [
    "print(f'Curated tweets: {len(curated_tweets)}\\nCool tweets: {len(cool_tweets)}')"
   ]
  },
  {
   "cell_type": "code",
   "execution_count": 29,
   "metadata": {
    "ExecuteTime": {
     "end_time": "2021-06-10T08:02:37.950603Z",
     "start_time": "2021-06-10T08:02:37.946371Z"
    }
   },
   "outputs": [],
   "source": [
    "tweets_mlp = pd.DataFrame(data=cool_tweets)"
   ]
  },
  {
   "cell_type": "code",
   "execution_count": 30,
   "metadata": {
    "ExecuteTime": {
     "end_time": "2021-06-10T08:02:39.120892Z",
     "start_time": "2021-06-10T08:02:39.119166Z"
    }
   },
   "outputs": [],
   "source": [
    "tweets_mlp.columns = ['text']"
   ]
  },
  {
   "cell_type": "code",
   "execution_count": 31,
   "metadata": {
    "ExecuteTime": {
     "end_time": "2021-06-10T08:02:40.300594Z",
     "start_time": "2021-06-10T08:02:40.297782Z"
    }
   },
   "outputs": [],
   "source": [
    "tweets_mlp['auteur'] = 'MLP'"
   ]
  },
  {
   "cell_type": "code",
   "execution_count": 32,
   "metadata": {
    "ExecuteTime": {
     "end_time": "2021-06-10T08:02:41.487422Z",
     "start_time": "2021-06-10T08:02:41.478525Z"
    }
   },
   "outputs": [
    {
     "data": {
      "text/html": [
       "<div>\n",
       "<style scoped>\n",
       "    .dataframe tbody tr th:only-of-type {\n",
       "        vertical-align: middle;\n",
       "    }\n",
       "\n",
       "    .dataframe tbody tr th {\n",
       "        vertical-align: top;\n",
       "    }\n",
       "\n",
       "    .dataframe thead th {\n",
       "        text-align: right;\n",
       "    }\n",
       "</style>\n",
       "<table border=\"1\" class=\"dataframe\">\n",
       "  <thead>\n",
       "    <tr style=\"text-align: right;\">\n",
       "      <th></th>\n",
       "      <th>text</th>\n",
       "      <th>auteur</th>\n",
       "    </tr>\n",
       "  </thead>\n",
       "  <tbody>\n",
       "    <tr>\n",
       "      <th>0</th>\n",
       "      <td>Les sondages et surtout le terrain démontrent la forte dynamique du Rassemblement National partout en France. Je souhaite bonne chance à nos têtes de liste qui débattront ce soir projet contre projet. Mobilisation totale: transformons l’espoir en victoires ! MLP #Régionales2021</td>\n",
       "      <td>MLP</td>\n",
       "    </tr>\n",
       "    <tr>\n",
       "      <th>1</th>\n",
       "      <td>💪🏻 Fin de notre matinée militante à #Drocourt, dans ce quartier minier que fut la Parisienne. L'occasion de saluer nos militants, très affairés en cette fin de campagne. #Régionales2021 #Départementales2021 Félicitations à eux ! 👏🏻 La mobilisation continue partout en France.</td>\n",
       "      <td>MLP</td>\n",
       "    </tr>\n",
       "    <tr>\n",
       "      <th>2</th>\n",
       "      <td>🌞 Échanges ce matin avec les habitants de #Leforest, particulièrement préoccupés par l'insécurité, avant une halte rafraîchissante. La vie reprend son cours et avec elle les matinées militantes en porte-en-porte, auprès de vous ! #PasDeCalais</td>\n",
       "      <td>MLP</td>\n",
       "    </tr>\n",
       "    <tr>\n",
       "      <th>3</th>\n",
       "      <td>🐈 Visite du Refuge du Mordant à #Toul, une belle structure qui recueille les chiens et chats abandonnés. Chacun sait l’importance que j’accorde à la protection animale qui est un marqueur de civilisation. Les régions RN seront en pointe sur ce sujet ! #Régionales2021</td>\n",
       "      <td>MLP</td>\n",
       "    </tr>\n",
       "    <tr>\n",
       "      <th>4</th>\n",
       "      <td>🇫🇷 À l’occasion de la visite du parc du château de #Lunéville, j’ai rappelé l’engagement de @ljacobelli, et de tous nos candidats aux #Régionales2021, à défendre le patrimoine historique de nos régions ! C’est un héritage précieux qui fait la fierté de tous les Français.</td>\n",
       "      <td>MLP</td>\n",
       "    </tr>\n",
       "    <tr>\n",
       "      <th>...</th>\n",
       "      <td>...</td>\n",
       "      <td>...</td>\n",
       "    </tr>\n",
       "    <tr>\n",
       "      <th>2580</th>\n",
       "      <td>« Nous voulons profondément modifier l'organisation européenne actuelle par la construction d'une Europe des Nations libres, riche de ses diversités ! » #Roquevaire #OnArrive</td>\n",
       "      <td>MLP</td>\n",
       "    </tr>\n",
       "    <tr>\n",
       "      <th>2581</th>\n",
       "      <td>« Le gouvernement actuel veut être le premier de la classe de cette UE profondément antidémocratique et ultralibérale qui est un laboratoire de la mondialisation sauvage. » #Roquevaire #OnArrive</td>\n",
       "      <td>MLP</td>\n",
       "    </tr>\n",
       "    <tr>\n",
       "      <th>2582</th>\n",
       "      <td>🚔 Visite d’un commissariat du 15ème arrondissement de #Marseille, avec notre sénateur @Stephane_Ravier : soutien aux #policiers confrontés à la dégradation de leurs conditions de travail, à la baisse des effectifs et au laxisme judiciaire !</td>\n",
       "      <td>MLP</td>\n",
       "    </tr>\n",
       "    <tr>\n",
       "      <th>2583</th>\n",
       "      <td>🙏🏻 Nous rendions ce matin hommage à la jeune Marie-Bélen, étudiante de 21 ans mortellement poignardée à #Marseille. On ne peut plus accepter que la jeunesse de France subisse ces agressions et ces crimes ignobles et lâches. MLP</td>\n",
       "      <td>MLP</td>\n",
       "    </tr>\n",
       "    <tr>\n",
       "      <th>2584</th>\n",
       "      <td>Et voilà !! J’avais prévenu ! Quelle honte d’augmenter encore les tarifs alors que des millions de Français ne s’en sortent plus. Ils n’arrêteront jamais ! MLP</td>\n",
       "      <td>MLP</td>\n",
       "    </tr>\n",
       "  </tbody>\n",
       "</table>\n",
       "<p>2585 rows × 2 columns</p>\n",
       "</div>"
      ],
      "text/plain": [
       "                                                                                                                                                                                                                                                                                        text  \\\n",
       "0     Les sondages et surtout le terrain démontrent la forte dynamique du Rassemblement National partout en France. Je souhaite bonne chance à nos têtes de liste qui débattront ce soir projet contre projet. Mobilisation totale: transformons l’espoir en victoires ! MLP #Régionales2021   \n",
       "1        💪🏻 Fin de notre matinée militante à #Drocourt, dans ce quartier minier que fut la Parisienne. L'occasion de saluer nos militants, très affairés en cette fin de campagne. #Régionales2021 #Départementales2021 Félicitations à eux ! 👏🏻 La mobilisation continue partout en France.   \n",
       "2                                         🌞 Échanges ce matin avec les habitants de #Leforest, particulièrement préoccupés par l'insécurité, avant une halte rafraîchissante. La vie reprend son cours et avec elle les matinées militantes en porte-en-porte, auprès de vous ! #PasDeCalais   \n",
       "3                🐈 Visite du Refuge du Mordant à #Toul, une belle structure qui recueille les chiens et chats abandonnés. Chacun sait l’importance que j’accorde à la protection animale qui est un marqueur de civilisation. Les régions RN seront en pointe sur ce sujet ! #Régionales2021   \n",
       "4            🇫🇷 À l’occasion de la visite du parc du château de #Lunéville, j’ai rappelé l’engagement de @ljacobelli, et de tous nos candidats aux #Régionales2021, à défendre le patrimoine historique de nos régions ! C’est un héritage précieux qui fait la fierté de tous les Français.   \n",
       "...                                                                                                                                                                                                                                                                                      ...   \n",
       "2580                                                                                                          « Nous voulons profondément modifier l'organisation européenne actuelle par la construction d'une Europe des Nations libres, riche de ses diversités ! » #Roquevaire #OnArrive   \n",
       "2581                                                                                      « Le gouvernement actuel veut être le premier de la classe de cette UE profondément antidémocratique et ultralibérale qui est un laboratoire de la mondialisation sauvage. » #Roquevaire #OnArrive   \n",
       "2582                                        🚔 Visite d’un commissariat du 15ème arrondissement de #Marseille, avec notre sénateur @Stephane_Ravier : soutien aux #policiers confrontés à la dégradation de leurs conditions de travail, à la baisse des effectifs et au laxisme judiciaire !   \n",
       "2583                                                     🙏🏻 Nous rendions ce matin hommage à la jeune Marie-Bélen, étudiante de 21 ans mortellement poignardée à #Marseille. On ne peut plus accepter que la jeunesse de France subisse ces agressions et ces crimes ignobles et lâches. MLP   \n",
       "2584                                                                                                                         Et voilà !! J’avais prévenu ! Quelle honte d’augmenter encore les tarifs alors que des millions de Français ne s’en sortent plus. Ils n’arrêteront jamais ! MLP   \n",
       "\n",
       "     auteur  \n",
       "0       MLP  \n",
       "1       MLP  \n",
       "2       MLP  \n",
       "3       MLP  \n",
       "4       MLP  \n",
       "...     ...  \n",
       "2580    MLP  \n",
       "2581    MLP  \n",
       "2582    MLP  \n",
       "2583    MLP  \n",
       "2584    MLP  \n",
       "\n",
       "[2585 rows x 2 columns]"
      ]
     },
     "execution_count": 32,
     "metadata": {},
     "output_type": "execute_result"
    }
   ],
   "source": [
    "tweets_mlp"
   ]
  },
  {
   "cell_type": "code",
   "execution_count": 33,
   "metadata": {
    "ExecuteTime": {
     "end_time": "2021-06-10T08:02:42.667590Z",
     "start_time": "2021-06-10T08:02:42.664296Z"
    }
   },
   "outputs": [],
   "source": [
    "tweets = pd.concat([tweets_w, tweets_mlp])"
   ]
  },
  {
   "cell_type": "code",
   "execution_count": 34,
   "metadata": {
    "ExecuteTime": {
     "end_time": "2021-06-10T08:02:43.851815Z",
     "start_time": "2021-06-10T08:02:43.846944Z"
    }
   },
   "outputs": [
    {
     "data": {
      "text/html": [
       "<div>\n",
       "<style scoped>\n",
       "    .dataframe tbody tr th:only-of-type {\n",
       "        vertical-align: middle;\n",
       "    }\n",
       "\n",
       "    .dataframe tbody tr th {\n",
       "        vertical-align: top;\n",
       "    }\n",
       "\n",
       "    .dataframe thead th {\n",
       "        text-align: right;\n",
       "    }\n",
       "</style>\n",
       "<table border=\"1\" class=\"dataframe\">\n",
       "  <thead>\n",
       "    <tr style=\"text-align: right;\">\n",
       "      <th></th>\n",
       "      <th>text</th>\n",
       "      <th>auteur</th>\n",
       "    </tr>\n",
       "  </thead>\n",
       "  <tbody>\n",
       "    <tr>\n",
       "      <th>0</th>\n",
       "      <td>Juju 🇫🇷, étape 5, #CoteBoostée à 5, tape m'en 5 ! 🚴‍♂️</td>\n",
       "      <td>Winamax</td>\n",
       "    </tr>\n",
       "    <tr>\n",
       "      <th>1</th>\n",
       "      <td>Tennis ATP Grand Chelem Paris 2021 : Sakkari et Tsitsipas, le doublé grec est-il possible ? #Sakkari</td>\n",
       "      <td>Winamax</td>\n",
       "    </tr>\n",
       "    <tr>\n",
       "      <th>2</th>\n",
       "      <td>M V P ! 🏀🇺🇸 #CoteBoostée</td>\n",
       "      <td>Winamax</td>\n",
       "    </tr>\n",
       "    <tr>\n",
       "      <th>3</th>\n",
       "      <td>@marjorie1726 En ligne :)</td>\n",
       "      <td>Winamax</td>\n",
       "    </tr>\n",
       "    <tr>\n",
       "      <th>4</th>\n",
       "      <td>De : FC Barcelone À : Agent de Wijnaldum</td>\n",
       "      <td>Winamax</td>\n",
       "    </tr>\n",
       "    <tr>\n",
       "      <th>...</th>\n",
       "      <td>...</td>\n",
       "      <td>...</td>\n",
       "    </tr>\n",
       "    <tr>\n",
       "      <th>2580</th>\n",
       "      <td>« Nous voulons profondément modifier l'organisation européenne actuelle par la construction d'une Europe des Nations libres, riche de ses diversités ! » #Roquevaire #OnArrive</td>\n",
       "      <td>MLP</td>\n",
       "    </tr>\n",
       "    <tr>\n",
       "      <th>2581</th>\n",
       "      <td>« Le gouvernement actuel veut être le premier de la classe de cette UE profondément antidémocratique et ultralibérale qui est un laboratoire de la mondialisation sauvage. » #Roquevaire #OnArrive</td>\n",
       "      <td>MLP</td>\n",
       "    </tr>\n",
       "    <tr>\n",
       "      <th>2582</th>\n",
       "      <td>🚔 Visite d’un commissariat du 15ème arrondissement de #Marseille, avec notre sénateur @Stephane_Ravier : soutien aux #policiers confrontés à la dégradation de leurs conditions de travail, à la baisse des effectifs et au laxisme judiciaire !</td>\n",
       "      <td>MLP</td>\n",
       "    </tr>\n",
       "    <tr>\n",
       "      <th>2583</th>\n",
       "      <td>🙏🏻 Nous rendions ce matin hommage à la jeune Marie-Bélen, étudiante de 21 ans mortellement poignardée à #Marseille. On ne peut plus accepter que la jeunesse de France subisse ces agressions et ces crimes ignobles et lâches. MLP</td>\n",
       "      <td>MLP</td>\n",
       "    </tr>\n",
       "    <tr>\n",
       "      <th>2584</th>\n",
       "      <td>Et voilà !! J’avais prévenu ! Quelle honte d’augmenter encore les tarifs alors que des millions de Français ne s’en sortent plus. Ils n’arrêteront jamais ! MLP</td>\n",
       "      <td>MLP</td>\n",
       "    </tr>\n",
       "  </tbody>\n",
       "</table>\n",
       "<p>5572 rows × 2 columns</p>\n",
       "</div>"
      ],
      "text/plain": [
       "                                                                                                                                                                                                                                                  text  \\\n",
       "0                                                                                                                                                                                               Juju 🇫🇷, étape 5, #CoteBoostée à 5, tape m'en 5 ! 🚴‍♂️   \n",
       "1                                                                                                                                                 Tennis ATP Grand Chelem Paris 2021 : Sakkari et Tsitsipas, le doublé grec est-il possible ? #Sakkari   \n",
       "2                                                                                                                                                                                                                             M V P ! 🏀🇺🇸 #CoteBoostée   \n",
       "3                                                                                                                                                                                                                            @marjorie1726 En ligne :)   \n",
       "4                                                                                                                                                                                                             De : FC Barcelone À : Agent de Wijnaldum   \n",
       "...                                                                                                                                                                                                                                                ...   \n",
       "2580                                                                    « Nous voulons profondément modifier l'organisation européenne actuelle par la construction d'une Europe des Nations libres, riche de ses diversités ! » #Roquevaire #OnArrive   \n",
       "2581                                                « Le gouvernement actuel veut être le premier de la classe de cette UE profondément antidémocratique et ultralibérale qui est un laboratoire de la mondialisation sauvage. » #Roquevaire #OnArrive   \n",
       "2582  🚔 Visite d’un commissariat du 15ème arrondissement de #Marseille, avec notre sénateur @Stephane_Ravier : soutien aux #policiers confrontés à la dégradation de leurs conditions de travail, à la baisse des effectifs et au laxisme judiciaire !   \n",
       "2583               🙏🏻 Nous rendions ce matin hommage à la jeune Marie-Bélen, étudiante de 21 ans mortellement poignardée à #Marseille. On ne peut plus accepter que la jeunesse de France subisse ces agressions et ces crimes ignobles et lâches. MLP   \n",
       "2584                                                                                   Et voilà !! J’avais prévenu ! Quelle honte d’augmenter encore les tarifs alors que des millions de Français ne s’en sortent plus. Ils n’arrêteront jamais ! MLP   \n",
       "\n",
       "       auteur  \n",
       "0     Winamax  \n",
       "1     Winamax  \n",
       "2     Winamax  \n",
       "3     Winamax  \n",
       "4     Winamax  \n",
       "...       ...  \n",
       "2580      MLP  \n",
       "2581      MLP  \n",
       "2582      MLP  \n",
       "2583      MLP  \n",
       "2584      MLP  \n",
       "\n",
       "[5572 rows x 2 columns]"
      ]
     },
     "execution_count": 34,
     "metadata": {},
     "output_type": "execute_result"
    }
   ],
   "source": [
    "tweets"
   ]
  },
  {
   "cell_type": "code",
   "execution_count": 35,
   "metadata": {
    "ExecuteTime": {
     "end_time": "2021-06-10T08:02:49.271549Z",
     "start_time": "2021-06-10T08:02:45.043941Z"
    }
   },
   "outputs": [
    {
     "data": {
      "text/html": [],
      "text/plain": [
       "<IPython.core.display.HTML object>"
      ]
     },
     "metadata": {},
     "output_type": "display_data"
    },
    {
     "name": "stderr",
     "output_type": "stream",
     "text": [
      "/Users/yanismartinet/opt/anaconda3/lib/python3.8/site-packages/numpy/core/_asarray.py:102: VisibleDeprecationWarning: Creating an ndarray from ragged nested sequences (which is a list-or-tuple of lists-or-tuples-or ndarrays with different lengths or shapes) is deprecated. If you meant to do this, you must specify 'dtype=object' when creating the ndarray.\n",
      "  return array(a, dtype, copy=False, order=order)\n"
     ]
    }
   ],
   "source": [
    "data = DataBlock(\n",
    "        blocks=TextBlock.from_df('text', is_lm=True),\n",
    "        get_x=ColReader('text'), \n",
    "        splitter=RandomSplitter(0.1) \n",
    "    # using only 10% of entire comments data for validation inorder to learn more\n",
    ").dataloaders(tweets, bs=48, seq_len=80)"
   ]
  },
  {
   "cell_type": "code",
   "execution_count": 36,
   "metadata": {
    "ExecuteTime": {
     "end_time": "2021-06-10T08:02:50.528950Z",
     "start_time": "2021-06-10T08:02:50.457969Z"
    }
   },
   "outputs": [
    {
     "data": {
      "text/html": [
       "<table border=\"1\" class=\"dataframe\">\n",
       "  <thead>\n",
       "    <tr style=\"text-align: right;\">\n",
       "      <th></th>\n",
       "      <th>text</th>\n",
       "      <th>text_</th>\n",
       "    </tr>\n",
       "  </thead>\n",
       "  <tbody>\n",
       "    <tr>\n",
       "      <th>0</th>\n",
       "      <td>xxbos xxmaj la bataille des # xxmaj municipales2020 est difficile mais c’est la plus belle . xxmaj celle du quotidien . xxmaj celle du réel . xxmaj nos candidats sont xxunk et vous xxunk compter sur eux pour défendre xxup vos intérêts ! # xxmaj mormant xxbos 📹 « xxmaj concernant la pénurie de # masques , deux problèmes se sont xxunk pour xxunk à cette situation catastrophique : le problème de la suppression des stocks nationaux , et la</td>\n",
       "      <td>xxmaj la bataille des # xxmaj municipales2020 est difficile mais c’est la plus belle . xxmaj celle du quotidien . xxmaj celle du réel . xxmaj nos candidats sont xxunk et vous xxunk compter sur eux pour défendre xxup vos intérêts ! # xxmaj mormant xxbos 📹 « xxmaj concernant la pénurie de # masques , deux problèmes se sont xxunk pour xxunk à cette situation catastrophique : le problème de la suppression des stocks nationaux , et la xxunk</td>\n",
       "    </tr>\n",
       "    <tr>\n",
       "      <th>1</th>\n",
       "      <td>xxunk de la xxmaj france au xxmaj sahel . xxup l'otan , oui , est en \" état de mort cérébrale \" , et l'union européenne , qui se xxunk pourtant de tout et xxunk quoi , ne semble pas vouloir se xxunk de la lutte contre le fondamentalisme islamiste ! » # xxmaj mali # legrandrdv xxbos xxunk xxmaj salut , ce n’est pas prévu non désolé . xxbos xxunk @betclic xxmaj salut , on n'a plus les droits</td>\n",
       "      <td>de la xxmaj france au xxmaj sahel . xxup l'otan , oui , est en \" état de mort cérébrale \" , et l'union européenne , qui se xxunk pourtant de tout et xxunk quoi , ne semble pas vouloir se xxunk de la lutte contre le fondamentalisme islamiste ! » # xxmaj mali # legrandrdv xxbos xxunk xxmaj salut , ce n’est pas prévu non désolé . xxbos xxunk @betclic xxmaj salut , on n'a plus les droits pour</td>\n",
       "    </tr>\n",
       "  </tbody>\n",
       "</table>"
      ],
      "text/plain": [
       "<IPython.core.display.HTML object>"
      ]
     },
     "metadata": {},
     "output_type": "display_data"
    }
   ],
   "source": [
    "data.show_batch(max_n=2)"
   ]
  },
  {
   "cell_type": "code",
   "execution_count": 37,
   "metadata": {
    "ExecuteTime": {
     "end_time": "2021-06-10T08:02:58.650510Z",
     "start_time": "2021-06-10T08:02:51.702302Z"
    }
   },
   "outputs": [
    {
     "data": {
      "text/html": [],
      "text/plain": [
       "<IPython.core.display.HTML object>"
      ]
     },
     "metadata": {},
     "output_type": "display_data"
    }
   ],
   "source": [
    "# modele de deep learning\n",
    "learn = language_model_learner(\n",
    "    data, AWD_LSTM, drop_mult=0.3, \n",
    "    metrics=[accuracy, Perplexity()])"
   ]
  },
  {
   "cell_type": "code",
   "execution_count": 38,
   "metadata": {
    "ExecuteTime": {
     "end_time": "2021-06-10T08:02:59.834919Z",
     "start_time": "2021-06-10T08:02:59.830334Z"
    }
   },
   "outputs": [],
   "source": [
    "def find_appropriate_lr(model:Learner, lr_diff:int = 15, loss_threshold:float = .05, adjust_value:float = 1, plot:bool = False) -> float:\n",
    "    # on utilise lr_find qui trouve le learning rate optimal\n",
    "    model.lr_find()\n",
    "    \n",
    "    # on récupère les loss values + leur gradient et les lr\n",
    "    losses = np.array(model.recorder.losses)\n",
    "    assert(lr_diff < len(losses))\n",
    "    loss_grad = np.gradient(losses)\n",
    "    lrs = model.recorder.lrs\n",
    "    \n",
    "    #on recherche l'index des gradients ou le loss est au plus bas avant la chute\n",
    "    # initialisation des idx avec lr_diff\n",
    "    # on met le min local des lr à -1 pour marquer les seuils trop bas\n",
    "    r_idx = -1\n",
    "    l_idx = r_idx - lr_diff\n",
    "    while (l_idx >= -len(losses)) and (abs(loss_grad[r_idx] - loss_grad[l_idx]) > loss_threshold):\n",
    "        local_min_lr = lrs[l_idx]\n",
    "        r_idx -= 1\n",
    "        l_idx -= 1\n",
    "\n",
    "    lr_to_use = local_min_lr * adjust_value\n",
    "    \n",
    "    if plot:\n",
    "        # plot des gratients des loss selon la variation de lr \n",
    "        plt.plot(loss_grad)\n",
    "        plt.plot(len(losses)+l_idx, loss_grad[l_idx],markersize=10,marker='o',color='red')\n",
    "        plt.ylabel(\"Loss\")\n",
    "        plt.xlabel(\"Index of LRs\")\n",
    "        plt.show()\n",
    "\n",
    "        plt.plot(np.log10(lrs), losses)\n",
    "        plt.ylabel(\"Loss\")\n",
    "        plt.xlabel(\"Log 10 Transform of Learning Rate\")\n",
    "        loss_coord = np.interp(np.log10(lr_to_use), np.log10(lrs), losses)\n",
    "        plt.plot(np.log10(lr_to_use), loss_coord, markersize=10,marker='o',color='red')\n",
    "        plt.show()\n",
    "        \n",
    "    return lr_to_use"
   ]
  },
  {
   "cell_type": "code",
   "execution_count": null,
   "metadata": {
    "ExecuteTime": {
     "start_time": "2021-06-10T08:01:45.233Z"
    }
   },
   "outputs": [
    {
     "data": {
      "text/html": [
       "\n",
       "    <div>\n",
       "        <style>\n",
       "            /* Turns off some styling */\n",
       "            progress {\n",
       "                /* gets rid of default border in Firefox and Opera. */\n",
       "                border: none;\n",
       "                /* Needs to be in here for Safari polyfill so background images work as expected. */\n",
       "                background-size: auto;\n",
       "            }\n",
       "            .progress-bar-interrupted, .progress-bar-interrupted::-webkit-progress-bar {\n",
       "                background: #F44336;\n",
       "            }\n",
       "        </style>\n",
       "      <progress value='0' class='' max='3' style='width:300px; height:20px; vertical-align: middle;'></progress>\n",
       "      0.00% [0/3 00:00<00:00]\n",
       "    </div>\n",
       "    \n",
       "\n",
       "\n",
       "    <div>\n",
       "        <style>\n",
       "            /* Turns off some styling */\n",
       "            progress {\n",
       "                /* gets rid of default border in Firefox and Opera. */\n",
       "                border: none;\n",
       "                /* Needs to be in here for Safari polyfill so background images work as expected. */\n",
       "                background-size: auto;\n",
       "            }\n",
       "            .progress-bar-interrupted, .progress-bar-interrupted::-webkit-progress-bar {\n",
       "                background: #F44336;\n",
       "            }\n",
       "        </style>\n",
       "      <progress value='24' class='' max='40' style='width:300px; height:20px; vertical-align: middle;'></progress>\n",
       "      60.00% [24/40 03:52<02:35 7.5391]\n",
       "    </div>\n",
       "    "
      ],
      "text/plain": [
       "<IPython.core.display.HTML object>"
      ]
     },
     "metadata": {},
     "output_type": "display_data"
    }
   ],
   "source": [
    "a = find_appropriate_lr(learn)"
   ]
  },
  {
   "cell_type": "code",
   "execution_count": null,
   "metadata": {
    "ExecuteTime": {
     "start_time": "2021-06-10T08:01:47.211Z"
    }
   },
   "outputs": [],
   "source": [
    "learn.fit_one_cycle(10, a)"
   ]
  },
  {
   "cell_type": "code",
   "execution_count": 53,
   "metadata": {},
   "outputs": [],
   "source": [
    "learn.save_encoder('finetuned')"
   ]
  },
  {
   "cell_type": "code",
   "execution_count": 54,
   "metadata": {},
   "outputs": [],
   "source": [
    "#learn = learn.load_encoder('finetuned')"
   ]
  },
  {
   "cell_type": "code",
   "execution_count": 55,
   "metadata": {},
   "outputs": [
    {
     "data": {
      "text/html": [],
      "text/plain": [
       "<IPython.core.display.HTML object>"
      ]
     },
     "metadata": {},
     "output_type": "display_data"
    },
    {
     "name": "stdout",
     "output_type": "stream",
     "text": [
      "Le Coronavirus est - il que Mélenchon - de - Grand Plan à nouveau être une nouvelle étape de ces # Mélenchon , qui se joue au mensonge et\n"
     ]
    },
    {
     "data": {
      "text/html": [],
      "text/plain": [
       "<IPython.core.display.HTML object>"
      ]
     },
     "metadata": {},
     "output_type": "display_data"
    },
    {
     "name": "stdout",
     "output_type": "stream",
     "text": [
      "Les Bleus vont gagner du marseillais qui ont joué contre le virus . Les supporters parisiens : Le règlement > Répondez avec votre pseudo Winamax .\n"
     ]
    },
    {
     "data": {
      "text/html": [],
      "text/plain": [
       "<IPython.core.display.HTML object>"
      ]
     },
     "metadata": {},
     "output_type": "display_data"
    },
    {
     "name": "stdout",
     "output_type": "stream",
     "text": [
      "Je suis venue apporter mon soutien aux forces de l'ordre et mon soutien à ces grand soutien à ces scènes de guerre civile , qui nous devons le juste constituer un ami\n"
     ]
    }
   ],
   "source": [
    "# prédiction des tweets\n",
    "N_WORDS = 30\n",
    "\n",
    "\n",
    "print(learn.predict(\"Le Coronavirus est\", N_WORDS, temperature=0.75))\n",
    "\n",
    "print(learn.predict(\"Les Bleus vont\", N_WORDS, temperature=0.75))\n",
    "\n",
    "print(learn.predict(\"Je suis \", N_WORDS, temperature=0.75))"
   ]
  },
  {
   "cell_type": "code",
   "execution_count": null,
   "metadata": {},
   "outputs": [],
   "source": [
    "N_WORDS = int(input(\"Nombre de mots : \"))\n",
    "PHRASE = input(\"Début de la phrase: \")\n",
    "\n",
    "print(learn.predict(PHRASE, N_WORDS, temperature=0.75))"
   ]
  },
  {
   "cell_type": "code",
   "execution_count": null,
   "metadata": {},
   "outputs": [],
   "source": []
  }
 ],
 "metadata": {
  "kernelspec": {
   "display_name": "Python 3",
   "language": "python",
   "name": "python3"
  },
  "language_info": {
   "codemirror_mode": {
    "name": "ipython",
    "version": 3
   },
   "file_extension": ".py",
   "mimetype": "text/x-python",
   "name": "python",
   "nbconvert_exporter": "python",
   "pygments_lexer": "ipython3",
   "version": "3.8.5"
  },
  "toc": {
   "base_numbering": 1,
   "nav_menu": {},
   "number_sections": true,
   "sideBar": true,
   "skip_h1_title": false,
   "title_cell": "Table of Contents",
   "title_sidebar": "Contents",
   "toc_cell": false,
   "toc_position": {},
   "toc_section_display": true,
   "toc_window_display": false
  },
  "varInspector": {
   "cols": {
    "lenName": 16,
    "lenType": 16,
    "lenVar": 40
   },
   "kernels_config": {
    "python": {
     "delete_cmd_postfix": "",
     "delete_cmd_prefix": "del ",
     "library": "var_list.py",
     "varRefreshCmd": "print(var_dic_list())"
    },
    "r": {
     "delete_cmd_postfix": ") ",
     "delete_cmd_prefix": "rm(",
     "library": "var_list.r",
     "varRefreshCmd": "cat(var_dic_list()) "
    }
   },
   "types_to_exclude": [
    "module",
    "function",
    "builtin_function_or_method",
    "instance",
    "_Feature"
   ],
   "window_display": false
  }
 },
 "nbformat": 4,
 "nbformat_minor": 5
}
